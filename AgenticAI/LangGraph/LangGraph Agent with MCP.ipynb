{
 "cells": [
  {
   "cell_type": "markdown",
   "id": "6f70c205",
   "metadata": {},
   "source": [
    "## Steps to create a React agent using MCP Server\n",
    "\n",
    "### Create a mcp_client to connnect to the MCP Server\n",
    "\n",
    "### Create a LLM\n",
    "\n",
    "### Create the LangGraph StateGraph\n",
    "- Need a State for sharing between nodes\n",
    "- Create required nodes\n",
    "- First node to be model node\n",
    "- Second is tool node\n",
    "- Conditional node to handle tool calling"
   ]
  },
  {
   "cell_type": "code",
   "execution_count": null,
   "id": "473e2c41",
   "metadata": {},
   "outputs": [],
   "source": [
    "# Step 1: Set up MCP client\n",
    "import os\n",
    "import asyncio\n",
    "from langchain_mcp_adapters.client import MultiServerMCPClient\n",
    "\n",
    "BEARER_TOKEN = os.getenv(\"MCP_BEARER_TOKEN\")\n",
    "connections = {\n",
    "    \"github_mcp_server\": {\n",
    "        \"url\": \"https://api.githubcopilot.com/mcp/\",\n",
    "        \"transport\": \"streamable_http\",\n",
    "        \"headers\": {\"Authorization\": f\"Bearer {BEARER_TOKEN}\"},\n",
    "    }\n",
    "}\n",
    "client = MultiServerMCPClient(connections)\n",
    "tools = await client.get_tools()"
   ]
  },
  {
   "cell_type": "code",
   "execution_count": null,
   "id": "f898ab4a",
   "metadata": {},
   "outputs": [],
   "source": [
    "from transformers import AutoModelForCausalLM, AutoTokenizer\n",
    "\n",
    "# Login to HF using token\n",
    "from huggingface_hub import login\n",
    "HUGGINGFACE_TOKEN = os.getenv(\"HUGGINGFACE_TOKEN\")\n",
    "login(HUGGINGFACE_TOKEN)\n",
    "\n",
    "# Load the Mistral model with Hugging Face Transformers\n",
    "model_name = \"mistralai/Mistral-7B-Instruct-v0.2\"\n",
    "tokenizer = AutoTokenizer.from_pretrained(model_name)\n",
    "model = AutoModelForCausalLM.from_pretrained(model_name)\n",
    "\n",
    "# Wrap the model in a LangChain LLM class\n",
    "from langchain_community.llms import HuggingFacePipeline\n",
    "from transformers import pipeline\n",
    "\n",
    "hf_pipeline = pipeline(\"text-generation\", model=model, tokenizer=tokenizer, max_new_tokens=512)\n",
    "llm = HuggingFacePipeline(pipeline=hf_pipeline)"
   ]
  },
  {
   "cell_type": "code",
   "execution_count": null,
   "id": "1c5ff865",
   "metadata": {},
   "outputs": [],
   "source": [
    "# Create a LangGraph State\n",
    "from langchain_core.messages import SystemMessage\n",
    "\n",
    "# Graph Imports\n",
    "from langgraph.graph import StateGraph, MessagesState\n",
    "from langgraph.prebuilt import ToolNode, tools_condition\n",
    "from langgraph.constants import START, END\n",
    "\n",
    "\n",
    "# Create Nodes for the graph\n",
    "async def llm_with_tools(state: MessagesState) -> dict:\n",
    "    messages = state[\"messages\"]\n",
    "    try:\n",
    "        response = await llm.bind_tools(tools).ainvoke(messages)\n",
    "    except Exception as e:\n",
    "        print(\"Error during LLM invocation:\", e)\n",
    "        raise\n",
    "    return {\"messages\": [response]}\n",
    "\n",
    "\n",
    "graph_builder = StateGraph(state_schema=MessagesState)\n",
    "graph_builder.add_node(\"llm_with_tools\", llm_with_tools)\n",
    "graph_builder.add_node(\"tools\", ToolNode(tools))\n",
    "\n",
    "# Define edges\n",
    "graph_builder.add_edge(START, \"llm_with_tools\")\n",
    "graph_builder.add_edge(\"tools\", \"llm_with_tools\")\n",
    "graph_builder.add_conditional_edges(\n",
    "    \"llm_with_tools\", tools_condition, {\"tools\": \"tools\", \"__end__\": END}\n",
    ")\n",
    "\n",
    "# compile graph\n",
    "agent = graph_builder.compile(name=\"GitHub Agent\", debug=True)"
   ]
  },
  {
   "cell_type": "code",
   "execution_count": null,
   "id": "c7623474",
   "metadata": {},
   "outputs": [],
   "source": [
    "from langchain_core.messages import HumanMessage, SystemMessage\n",
    "\n",
    "system_prompt = SystemMessage(\n",
    "    content=\"\"\"\n",
    "        You are a GitHub Agent designed to interact with public GitHub repositories.\n",
    "        Your task is to assist users with their queries related to GitHub repositories by utilizing the available tools effectively.\n",
    "        \"\"\"\n",
    ")\n",
    "user_prompt = HumanMessage(\n",
    "    content=\"\"\"\n",
    "        Read the README.md from a repository and provide me a summary. Details owner: baliyanvinay, repo: Data-Structures-and-Algorithms\n",
    "        \"\"\"\n",
    ")\n",
    "\n",
    "# Run the agent\n",
    "resp = await agent.ainvoke({\"messages\": [system_prompt, user_prompt]})\n",
    "print(\"________________________LLM Response________________________\")\n",
    "print(resp[\"messages\"][-1].content)"
   ]
  }
 ],
 "metadata": {
  "kernelspec": {
   "display_name": ".venv",
   "language": "python",
   "name": "python3"
  },
  "language_info": {
   "codemirror_mode": {
    "name": "ipython",
    "version": 3
   },
   "file_extension": ".py",
   "mimetype": "text/x-python",
   "name": "python",
   "nbconvert_exporter": "python",
   "pygments_lexer": "ipython3",
   "version": "3.13.1"
  }
 },
 "nbformat": 4,
 "nbformat_minor": 5
}
