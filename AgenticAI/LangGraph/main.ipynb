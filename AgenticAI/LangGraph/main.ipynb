{
 "cells": [
  {
   "cell_type": "markdown",
   "id": "ca67f46e",
   "metadata": {},
   "source": [
    "### Basic ReAct Agent with LangGraph"
   ]
  },
  {
   "cell_type": "code",
   "execution_count": null,
   "id": "3841c856",
   "metadata": {},
   "outputs": [],
   "source": [
    "! pip install -U langgraph"
   ]
  },
  {
   "cell_type": "markdown",
   "id": "d2c828b5",
   "metadata": {},
   "source": [
    "from langgraph.prebuilt import create_react_agent"
   ]
  },
  {
   "cell_type": "code",
   "execution_count": null,
   "id": "719f67cc",
   "metadata": {},
   "outputs": [],
   "source": [
    "# Tool\n"
   ]
  }
 ],
 "metadata": {
  "kernelspec": {
   "display_name": "Python 3",
   "language": "python",
   "name": "python3"
  },
  "language_info": {
   "name": "python",
   "version": "3.12.1"
  }
 },
 "nbformat": 4,
 "nbformat_minor": 5
}
