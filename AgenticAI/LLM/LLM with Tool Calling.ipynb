{
  "cells": [
    {
      "cell_type": "code",
      "execution_count": null,
      "id": "1417bd16",
      "metadata": {
        "collapsed": true,
        "id": "1417bd16"
      },
      "outputs": [],
      "source": [
        "%pip install torch==2.2.0 --index-url https://download.pytorch.org/whl/cu118 --quiet\n",
        "%pip install transformers==4.42.0 bitsandbytes accelerate --quiet"
      ]
    },
    {
      "cell_type": "code",
      "execution_count": null,
      "id": "ff09f0a5",
      "metadata": {
        "id": "ff09f0a5"
      },
      "outputs": [],
      "source": [
        "# HF login\n",
        "from huggingface_hub import login\n",
        "from getpass import getpass\n",
        "\n",
        "HUGGINGFACE_TOKEN = getpass(\"Please provide the HuggingFace Token: \")\n",
        "\n",
        "login(HUGGINGFACE_TOKEN)"
      ]
    },
    {
      "cell_type": "code",
      "source": [
        "from transformers import AutoModelForCausalLM, AutoTokenizer, BitsAndBytesConfig\n",
        "\n",
        "model_id = \"mistralai/Mistral-7B-Instruct-v0.3\"\n",
        "\n",
        "quant_config = BitsAndBytesConfig(load_in_4bit=True, bnb_4bit_quant_type=\"nf4\")\n",
        "\n",
        "model = AutoModelForCausalLM.from_pretrained(model_id, device_map=\"auto\", quantization_config=quant_config)\n",
        "tokenizer = AutoTokenizer.from_pretrained(model_id)\n",
        "\n",
        "print(\"Model and tokenizer loaded successfully!\")"
      ],
      "metadata": {
        "id": "HXIAWRlkuePp"
      },
      "id": "HXIAWRlkuePp",
      "execution_count": null,
      "outputs": []
    },
    {
      "cell_type": "code",
      "execution_count": null,
      "id": "ab214b89-5953-4ffe-9955-7621e623fe28",
      "metadata": {
        "id": "ab214b89-5953-4ffe-9955-7621e623fe28"
      },
      "outputs": [],
      "source": [
        "from transformers import pipeline\n",
        "from langchain.llms import HuggingFacePipeline\n",
        "pipe = pipeline(\n",
        "    \"text-generation\",\n",
        "    model=model,\n",
        "    tokenizer=tokenizer,\n",
        "    max_new_tokens=512,\n",
        "    temperature=0.7,\n",
        "    do_sample=True\n",
        ")\n",
        "\n",
        "llm = HuggingFacePipeline(pipeline=pipe)"
      ]
    }
  ],
  "metadata": {
    "kernelspec": {
      "display_name": "Python 3",
      "name": "python3"
    },
    "language_info": {
      "codemirror_mode": {
        "name": "ipython",
        "version": 3
      },
      "file_extension": ".py",
      "mimetype": "text/x-python",
      "name": "python",
      "nbconvert_exporter": "python",
      "pygments_lexer": "ipython3",
      "version": "3.12.1"
    },
    "colab": {
      "provenance": [],
      "gpuType": "T4"
    },
    "accelerator": "GPU"
  },
  "nbformat": 4,
  "nbformat_minor": 5
}