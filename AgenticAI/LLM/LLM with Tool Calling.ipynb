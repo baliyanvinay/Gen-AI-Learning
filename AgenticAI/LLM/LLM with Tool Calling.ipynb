{
 "cells": [
  {
   "cell_type": "code",
   "execution_count": null,
   "id": "1417bd16",
   "metadata": {},
   "outputs": [],
   "source": [
    "%pip install torch==2.2.0 transformers==4.42.0 sentencepiece protobuf --quiet"
   ]
  },
  {
   "cell_type": "code",
   "execution_count": null,
   "id": "ff09f0a5",
   "metadata": {},
   "outputs": [],
   "source": [
    "# HF login\n",
    "from huggingface_hub import login\n",
    "from getpass import getpass\n",
    "\n",
    "HUGGINGFACE_TOKEN = getpass(\"Please provide the HuggingFace Token: \")\n",
    "\n",
    "login(HUGGINGFACE_TOKEN)"
   ]
  },
  {
   "cell_type": "code",
   "execution_count": null,
   "id": "018fc9b2-8d79-4d1f-b944-fb184aba25f4",
   "metadata": {},
   "outputs": [],
   "source": [
    "from transformers import AutoModelForCausalLM, AutoTokenizer\n",
    "\n",
    "model_id = \"mistralai/Mistral-7B-Instruct-v0.3\"\n",
    "tokenizer = AutoTokenizer.from_pretrained(model_id)\n",
    "model = AutoModelForCausalLM.from_pretrained(model_id)\n",
    "\n",
    "print(\"Model and tokenizer loaded successfully!\")"
   ]
  },
  {
   "cell_type": "code",
   "execution_count": null,
   "id": "ab214b89-5953-4ffe-9955-7621e623fe28",
   "metadata": {},
   "outputs": [],
   "source": []
  }
 ],
 "metadata": {
  "kernelspec": {
   "display_name": ".venv (3.12.1)",
   "language": "python",
   "name": "python3"
  },
  "language_info": {
   "codemirror_mode": {
    "name": "ipython",
    "version": 3
   },
   "file_extension": ".py",
   "mimetype": "text/x-python",
   "name": "python",
   "nbconvert_exporter": "python",
   "pygments_lexer": "ipython3",
   "version": "3.12.1"
  }
 },
 "nbformat": 4,
 "nbformat_minor": 5
}
