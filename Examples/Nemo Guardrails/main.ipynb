{
 "cells": [
  {
   "cell_type": "markdown",
   "id": "ca734ad5",
   "metadata": {},
   "source": [
    "### NVIDIA NeMo Guardrails for Developers - Safeguarding generative AI applications."
   ]
  },
  {
   "cell_type": "code",
   "execution_count": null,
   "id": "e853b02f",
   "metadata": {},
   "outputs": [],
   "source": [
    "%pip install nemoguardrails langchain_openai"
   ]
  },
  {
   "cell_type": "code",
   "execution_count": 3,
   "id": "e27e977f",
   "metadata": {},
   "outputs": [],
   "source": [
    "OPENAI_API_VERSION=\"\"\n",
    "AZURE_OPENAI_ENDPOINT=\"\"\n",
    "AZURE_OPENAI_DEPLOYMENT=\"\""
   ]
  },
  {
   "cell_type": "code",
   "execution_count": null,
   "id": "de82415c",
   "metadata": {},
   "outputs": [],
   "source": [
    "import nest_asyncio\n",
    "nest_asyncio.apply()\n",
    "\n",
    "import os\n",
    "from pathlib import Path\n",
    "\n",
    "from langchain_openai import AzureChatOpenAI\n",
    "from nemoguardrails import LLMRails, RailsConfig"
   ]
  },
  {
   "cell_type": "code",
   "execution_count": null,
   "id": "06519b3b",
   "metadata": {},
   "outputs": [],
   "source": [
    "current_working_dir = os.getcwd()\n",
    "config_path = str(Path(current_working_dir, \"config\"))\n",
    "\n",
    "config = RailsConfig.from_path(config_path)"
   ]
  },
  {
   "cell_type": "code",
   "execution_count": null,
   "id": "05296cd9",
   "metadata": {},
   "outputs": [],
   "source": [
    "llm = AzureChatOpenAI(\n",
    "    openai_api_version=OPENAI_API_VERSION,\n",
    "    azure_endpoint=AZURE_OPENAI_ENDPOINT,\n",
    "    azure_deployment=AZURE_OPENAI_DEPLOYMENT,\n",
    ")\n",
    "\n",
    "rails = LLMRails(config=config, llm=llm)\n",
    "\n",
    "options = {\n",
    "    \"rails\": {\n",
    "        \"input\": True,\n",
    "        \"output\": False,\n",
    "        \"dialog\": True,\n",
    "        \"retrieval\": False,\n",
    "    },\n",
    "    \"log\": {\"activated_rails\": True},\n",
    "}"
   ]
  },
  {
   "cell_type": "code",
   "execution_count": null,
   "id": "ccac98f2",
   "metadata": {},
   "outputs": [],
   "source": [
    "user_prompt = str(input())\n",
    "messages = [{\"role\": \"user\", \"content\": user_prompt}]\n",
    "\n",
    "response = await rails.generate_async(messages=messages, options=options)\n",
    "\n",
    "print(response)"
   ]
  }
 ],
 "metadata": {
  "kernelspec": {
   "display_name": "Python 3",
   "language": "python",
   "name": "python3"
  },
  "language_info": {
   "codemirror_mode": {
    "name": "ipython",
    "version": 3
   },
   "file_extension": ".py",
   "mimetype": "text/x-python",
   "name": "python",
   "nbconvert_exporter": "python",
   "pygments_lexer": "ipython3",
   "version": "3.12.1"
  }
 },
 "nbformat": 4,
 "nbformat_minor": 5
}
