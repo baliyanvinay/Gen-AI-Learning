{
 "cells": [
  {
   "cell_type": "code",
   "execution_count": 29,
   "id": "5a7f7d1a",
   "metadata": {},
   "outputs": [],
   "source": [
    "# pip install pandas openpyxl sentence-transformers faiss-cpu"
   ]
  },
  {
   "cell_type": "code",
   "execution_count": 30,
   "id": "426158b9",
   "metadata": {},
   "outputs": [],
   "source": [
    "import pandas as pd\n",
    "from sentence_transformers import SentenceTransformer\n",
    "import faiss"
   ]
  },
  {
   "cell_type": "code",
   "execution_count": 31,
   "id": "4fa540c6",
   "metadata": {},
   "outputs": [
    {
     "data": {
      "text/plain": [
       "['Ticket ID: T001 | Issue Type: Network | Description: Internet connectivity issue | Priority: High | Status: Resolved | Resolution Time (hrs): 2.0 | Assigned To: Alice',\n",
       " 'Ticket ID: T002 | Issue Type: Hardware | Description: Laptop not booting | Priority: Medium | Status: Resolved | Resolution Time (hrs): 5.0 | Assigned To: Bob',\n",
       " 'Ticket ID: T003 | Issue Type: Software | Description: Application crash on startup | Priority: High | Status: In Progress | Resolution Time (hrs): 3.0 | Assigned To: Charlie',\n",
       " 'Ticket ID: T004 | Issue Type: Access | Description: Unable to access shared drive | Priority: Low | Status: Resolved | Resolution Time (hrs): 1.0 | Assigned To: David',\n",
       " 'Ticket ID: T005 | Issue Type: Email | Description: Email not syncing | Priority: Medium | Status: Resolved | Resolution Time (hrs): 2.0 | Assigned To: Eve',\n",
       " 'Ticket ID: T006 | Issue Type: Network | Description: VPN connection drops frequently | Priority: High | Status: Open | Resolution Time (hrs): nan | Assigned To: Frank',\n",
       " 'Ticket ID: T007 | Issue Type: Hardware | Description: Mouse not working | Priority: Low | Status: Resolved | Resolution Time (hrs): 0.5 | Assigned To: Grace',\n",
       " 'Ticket ID: T008 | Issue Type: Software | Description: License expired for antivirus | Priority: Medium | Status: Resolved | Resolution Time (hrs): 1.5 | Assigned To: Heidi',\n",
       " 'Ticket ID: T009 | Issue Type: Access | Description: Forgot password for system login | Priority: High | Status: Resolved | Resolution Time (hrs): 0.75 | Assigned To: Ivan',\n",
       " 'Ticket ID: T010 | Issue Type: Email | Description: Spam filter blocking valid emails | Priority: Medium | Status: In Progress | Resolution Time (hrs): nan | Assigned To: Judy']"
      ]
     },
     "execution_count": 31,
     "metadata": {},
     "output_type": "execute_result"
    }
   ],
   "source": [
    "# Step 1: Load Excel file into DataFrame\n",
    "df = pd.read_excel(\"sample_it_tickets.xlsx\")  \n",
    "\n",
    "# Step 2: Convert each row to a string with headers\n",
    "texts = []\n",
    "for _, row in df.iterrows():\n",
    "    row_str = ' | '.join([f\"{col}: {row[col]}\" for col in df.columns])\n",
    "    texts.append(row_str)\n",
    "\n",
    "texts"
   ]
  },
  {
   "cell_type": "code",
   "execution_count": 32,
   "id": "a1bd8faf",
   "metadata": {},
   "outputs": [
    {
     "name": "stderr",
     "output_type": "stream",
     "text": [
      "/workspaces/Gen-AI-Learning/.venv/lib/python3.12/site-packages/torch/nn/modules/module.py:1762: FutureWarning: `encoder_attention_mask` is deprecated and will be removed in version 4.55.0 for `BertSdpaSelfAttention.forward`.\n",
      "  return forward_call(*args, **kwargs)\n"
     ]
    }
   ],
   "source": [
    "# Embed the text\n",
    "model = SentenceTransformer('all-MiniLM-L6-v2')\n",
    "embeddings = model.encode(texts)\n",
    "\n",
    "# Create FAISS index\n",
    "dimension = embeddings[0].shape[0]\n",
    "index = faiss.IndexFlatL2(dimension)\n",
    "index.add(embeddings)"
   ]
  },
  {
   "cell_type": "code",
   "execution_count": 33,
   "id": "d19c092f",
   "metadata": {},
   "outputs": [],
   "source": [
    "DISTANCE_THRESHOLD = 1.5 # more than 1.5 is not good match\n",
    "def search_similar(query, top_k=5):\n",
    "    query_embedding = model.encode([query])\n",
    "    distances, indices = index.search(query_embedding, top_k)\n",
    "    results = []\n",
    "    for distance, indx in zip(distances[0], indices[0]):\n",
    "        if distance <= DISTANCE_THRESHOLD:\n",
    "            results.append(texts[indx])\n",
    "    return results"
   ]
  },
  {
   "cell_type": "code",
   "execution_count": 34,
   "id": "b6a6c56f",
   "metadata": {},
   "outputs": [
    {
     "data": {
      "text/plain": [
       "['Ticket ID: T001 | Issue Type: Network | Description: Internet connectivity issue | Priority: High | Status: Resolved | Resolution Time (hrs): 2.0 | Assigned To: Alice',\n",
       " 'Ticket ID: T006 | Issue Type: Network | Description: VPN connection drops frequently | Priority: High | Status: Open | Resolution Time (hrs): nan | Assigned To: Frank']"
      ]
     },
     "execution_count": 34,
     "metadata": {},
     "output_type": "execute_result"
    }
   ],
   "source": [
    "query = \"What are the network issues?\"\n",
    "results = search_similar(query, top_k=3)\n",
    "results"
   ]
  }
 ],
 "metadata": {
  "kernelspec": {
   "display_name": ".venv",
   "language": "python",
   "name": "python3"
  },
  "language_info": {
   "codemirror_mode": {
    "name": "ipython",
    "version": 3
   },
   "file_extension": ".py",
   "mimetype": "text/x-python",
   "name": "python",
   "nbconvert_exporter": "python",
   "pygments_lexer": "ipython3",
   "version": "3.12.1"
  }
 },
 "nbformat": 4,
 "nbformat_minor": 5
}
